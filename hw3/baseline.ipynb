{
 "cells": [
  {
   "cell_type": "code",
   "execution_count": 138,
   "metadata": {},
   "outputs": [],
   "source": [
    "import gc\n",
    "import math\n",
    "import pickle\n",
    "import warnings\n",
    "from dataclasses import dataclass\n",
    "from typing import Any, List\n",
    "\n",
    "import numpy as np\n",
    "from scipy.sparse import coo_matrix, hstack\n",
    "from sklearn.linear_model import LogisticRegression\n",
    "from sklearn.preprocessing import OneHotEncoder\n",
    "from scipy.stats import kendalltau, spearmanr\n",
    "\n",
    "warnings.filterwarnings('ignore')"
   ]
  },
  {
   "cell_type": "code",
   "execution_count": 45,
   "metadata": {},
   "outputs": [],
   "source": [
    "@dataclass\n",
    "class CommandResult:\n",
    "    players: List[int]\n",
    "    mask: str\n",
    "    position: int\n",
    "\n",
    "\n",
    "@dataclass\n",
    "class TourData:\n",
    "    tour_id: int\n",
    "    num_questions: int\n",
    "    results: List[CommandResult]"
   ]
  },
  {
   "cell_type": "code",
   "execution_count": null,
   "metadata": {},
   "outputs": [],
   "source": [
    "def get_id_by_years(y, t_dict):\n",
    "    ids = []\n",
    "    for id_val in t_dict:\n",
    "        if t_dict[id_val]['dateStart'].startswith(y):\n",
    "            ids.append(id_val)\n",
    "    return ids\n",
    "\n",
    "\n",
    "def get_player_ids(index, result_df):\n",
    "    player_idx = []\n",
    "    for idx in index:\n",
    "        results = result_df[idx]\n",
    "        for result in results:\n",
    "            for player in result['teamMembers']:\n",
    "                player_idx.append(player['player']['id'])\n",
    "    return player_idx\n",
    "\n",
    "\n",
    "def get_data(indexes, result_data, tournament):\n",
    "    data = []\n",
    "    for idx in indexes:\n",
    "        result_query = []\n",
    "        for result in result_data[idx]:\n",
    "            pl_id = [player['player']['id']\n",
    "                     for player in result['teamMembers']]\n",
    "            if 'mask' in result:\n",
    "                mask = result['mask']\n",
    "                result_query.append(CommandResult(pl_id, mask, result['position']))\n",
    "        total_cuestion = sum(tournament[idx]['questionQty'].values())\n",
    "        data.append(TourData(idx, total_cuestion, result_query))\n",
    "    return data\n",
    "\n",
    "\n",
    "def get_train_data_tour(tour_data: TourData, total_question, quest_offset):\n",
    "    X = [list() for _ in range(2)]\n",
    "    y = []\n",
    "    for result in tour_data.results:\n",
    "        if result.mask is None:\n",
    "            continue\n",
    "        questions = [int(s) for s in result.mask if s in ('0', '1')]\n",
    "        num_question = len(questions)\n",
    "        if num_question != total_question:\n",
    "            continue\n",
    "        for player in result.players:\n",
    "            X_player = [player] * num_question\n",
    "            question_id = [quest_offset + i for i in range(num_question)]\n",
    "            X[0].extend(X_player)\n",
    "            X[1].extend(question_id)\n",
    "            y.extend(questions)\n",
    "    X = np.array(X).T\n",
    "    y = np.array(y)\n",
    "    return X, y\n",
    "\n",
    "\n",
    "def get_test_data_comm(result: CommandResult, quest_id, train_players):\n",
    "    X = [list() for _ in range(2)]\n",
    "    y = []\n",
    "\n",
    "    if result.mask:\n",
    "        questions = [int(s) for s in result.mask if s in ('0', '1')]\n",
    "        num_question = len(questions)\n",
    "        for player in result.players:\n",
    "            if player in train_players:\n",
    "                X_player = [player] * num_question\n",
    "                type_quest = [quest_id] * num_question\n",
    "                X[0].extend(X_player)\n",
    "                X[1].extend(type_quest)\n",
    "                y.extend(questions)\n",
    "    X = np.array(X).T\n",
    "    y = np.array(y)\n",
    "    return X, y\n",
    "\n",
    "\n",
    "def get_train_data(train_data: List[TourData]):\n",
    "    X, y = [], []\n",
    "    acc_n_questions = 0\n",
    "    for t in train_data:\n",
    "        n_questions = t.num_questions\n",
    "        X_new, y_new = get_train_data_tour(t, n_questions, acc_n_questions)\n",
    "        X.append(X_new)\n",
    "        y.extend(y_new)\n",
    "        acc_n_questions += n_questions\n",
    "    X = np.vstack(X)\n",
    "    y = np.array(y)\n",
    "    return X, y, acc_n_questions"
   ]
  },
  {
   "cell_type": "markdown",
   "metadata": {},
   "source": [
    "## Read data "
   ]
  },
  {
   "cell_type": "markdown",
   "metadata": {},
   "source": [
    "Прочитайте и проанализируйте данные, выберите турниры, в которых есть данные о составах команд и повопросных результатах (поле mask в results.pkl).\n",
    "Для унификации предлагаю:\n",
    "* взять в тренировочный набор турниры с dateStart из 2019 года; \n",
    "* в тестовый — турниры с dateStart из 2020 года.\n"
   ]
  },
  {
   "cell_type": "code",
   "execution_count": null,
   "metadata": {},
   "outputs": [],
   "source": [
    "with open(\"chgk/players.pkl\", \"rb\") as p, \\\n",
    "        open(\"chgk/results.pkl\", \"rb\") as r, \\\n",
    "        open(\"chgk/tournaments.pkl\", \"rb\") as t:\n",
    "    players_dict = pickle.load(p)\n",
    "    result_df = pickle.load(r)\n",
    "    tournament = pickle.load(t)\n",
    "\n",
    "train_id = get_id_by_years('2019', tournament)\n",
    "test_id = get_id_by_years('2020', tournament)\n",
    "\n",
    "train_players = get_player_ids(train_id, result_df)\n",
    "test_players = get_player_ids(test_id, result_df)\n",
    "\n",
    "s1 = set(train_players)\n",
    "s2 = set(test_players)\n",
    "\n",
    "train_data = get_data(train_id, result_df, tournament)\n",
    "test_data = get_data(test_id, result_df, tournament)\n",
    "\n",
    "with open(\"chgk/train_data.pkl\", \"wb\") as p:\n",
    "    pickle.dump(train_data, p)\n",
    "with open(\"chgk/test_data.pkl\", \"wb\") as p:\n",
    "    pickle.dump(test_data, p)\n",
    "with open(\"chgk/train_id.pkl\", \"wb\") as p:\n",
    "    pickle.dump(train_id, p)\n",
    "with open(\"chgk/test_id.pkl\", \"wb\") as p:\n",
    "    pickle.dump(test_id, p)\n",
    "with open(\"chgk/train_players.pkl\", \"wb\") as p:\n",
    "    pickle.dump(train_players, p)\n",
    "with open(\"chgk/test_players.pkl\", \"wb\") as p:\n",
    "    pickle.dump(test_players, p)"
   ]
  },
  {
   "cell_type": "code",
   "execution_count": 46,
   "metadata": {},
   "outputs": [],
   "source": [
    "with open(\"chgk/train_data.pkl\", \"rb\") as p:\n",
    "    train_data = pickle.load(p)\n",
    "with open(\"chgk/test_data.pkl\", \"rb\") as p:\n",
    "    test_data = pickle.load(p)\n",
    "with open(\"chgk/train_id.pkl\", \"rb\") as p:\n",
    "    train_id = pickle.load(p)\n",
    "with open(\"chgk/test_id.pkl\", \"rb\") as p:\n",
    "    test_id = pickle.load(p)\n",
    "with open(\"chgk/train_players.pkl\", \"rb\") as p:\n",
    "    train_players = pickle.load(p)\n",
    "with open(\"chgk/test_players.pkl\", \"rb\") as p:\n",
    "    test_players = pickle.load(p)"
   ]
  },
  {
   "cell_type": "markdown",
   "metadata": {},
   "source": [
    "## Train "
   ]
  },
  {
   "cell_type": "markdown",
   "metadata": {},
   "source": [
    "Постройте baseline-модель на основе линейной или логистической регрессии, которая будет обучать рейтинг-лист игроков. Замечания и подсказки:\n",
    "* повопросные результаты — это фактически результаты броска монетки, и их предсказание скорее всего имеет отношение к бинарной классификации;\n",
    "* в разных турнирах вопросы совсем разного уровня сложности, поэтому модель должна это учитывать; скорее всего, модель должна будет явно обучать не только силу каждого игрока, но и сложность каждого вопроса;\n",
    "* для baseline-модели можно забыть о командах и считать, что повопросные результаты команды просто относятся к каждому из её игроков.\n"
   ]
  },
  {
   "cell_type": "code",
   "execution_count": 47,
   "metadata": {},
   "outputs": [],
   "source": [
    "train_set_players = set(train_players)"
   ]
  },
  {
   "cell_type": "markdown",
   "metadata": {},
   "source": [
    "В качестве признаков возьмем \"силу\" игрока и сложность вопроса."
   ]
  },
  {
   "cell_type": "code",
   "execution_count": 49,
   "metadata": {},
   "outputs": [],
   "source": [
    "X, y, tot_questions = get_train_data(train_data)"
   ]
  },
  {
   "cell_type": "code",
   "execution_count": 50,
   "metadata": {},
   "outputs": [
    {
     "data": {
      "text/plain": [
       "OneHotEncoder(categorical_features=None, categories=None, drop=None,\n",
       "              dtype=<class 'numpy.float64'>, handle_unknown='error',\n",
       "              n_values=None, sparse=True)"
      ]
     },
     "execution_count": 50,
     "metadata": {},
     "output_type": "execute_result"
    }
   ],
   "source": [
    "train_players = np.array(train_players).reshape((-1,1))\n",
    "\n",
    "encoder_player = OneHotEncoder()\n",
    "encoder_type = OneHotEncoder()\n",
    "\n",
    "encoder_player.fit(train_players)\n",
    "encoder_type.fit(np.arange(tot_questions).reshape(-1,1))"
   ]
  },
  {
   "cell_type": "markdown",
   "metadata": {},
   "source": [
    "Приведем матрицу признаков к разреженному виду"
   ]
  },
  {
   "cell_type": "code",
   "execution_count": 51,
   "metadata": {},
   "outputs": [],
   "source": [
    "X_oh0 = encoder_player.transform(X[:,0].reshape(-1,1))\n",
    "X_oh1 = encoder_type.transform(X[:,1].reshape(-1,1))\n",
    "X=hstack((X_oh0,X_oh1))"
   ]
  },
  {
   "cell_type": "code",
   "execution_count": 142,
   "metadata": {},
   "outputs": [],
   "source": [
    "cls = LogisticRegression(solver='saga',random_state=123, n_jobs=-1)"
   ]
  },
  {
   "cell_type": "code",
   "execution_count": 143,
   "metadata": {},
   "outputs": [
    {
     "data": {
      "text/plain": [
       "LogisticRegression(C=1.0, class_weight=None, dual=False, fit_intercept=True,\n",
       "                   intercept_scaling=1, l1_ratio=None, max_iter=100,\n",
       "                   multi_class='warn', n_jobs=-1, penalty='l2',\n",
       "                   random_state=123, solver='saga', tol=0.0001, verbose=0,\n",
       "                   warm_start=False)"
      ]
     },
     "execution_count": 143,
     "metadata": {},
     "output_type": "execute_result"
    }
   ],
   "source": [
    "cls.fit(X,y)"
   ]
  },
  {
   "cell_type": "markdown",
   "metadata": {},
   "source": [
    "Получим веса \"силы\" игрока и сложности вопроса."
   ]
  },
  {
   "cell_type": "code",
   "execution_count": 144,
   "metadata": {},
   "outputs": [],
   "source": [
    "coef = cls.coef_[0]\n",
    "\n",
    "players_power, quest_power = coef[:-tot_questions], coef[-tot_questions:]"
   ]
  },
  {
   "cell_type": "markdown",
   "metadata": {},
   "source": [
    "## Test "
   ]
  },
  {
   "cell_type": "markdown",
   "metadata": {},
   "source": [
    "Вероятность того, что $i$ игрок ответит на $j$ вопрост будем вычислять по формуле $p_{ij}=\\sigma(s_i+q_j)$, где $s_i$ - сила игрока, а $q_j$ - сложность $j$ вопроса. "
   ]
  },
  {
   "cell_type": "markdown",
   "metadata": {},
   "source": [
    "Так как сложности новых вопросов неизвестны, то в качестве вероятности ответа на вопрос будем брать матожидание по всем вопросам для каждого игрока $p_{i}=\\mathbb{E}p_{ij}=\\int \\sigma(s_i+q)p(q)dq \\approx \\sigma(\\frac{s_i+mu_i}{\\sqrt{1+\\pi\\sigma(q)^2/8}})$ [см. например](http://eelxpeng.github.io/blog/2017/03/10/Tricks-of-Sigmoid-Function)"
   ]
  },
  {
   "cell_type": "code",
   "execution_count": 146,
   "metadata": {},
   "outputs": [],
   "source": [
    "def sigmoid(x):\n",
    "    return 1/(1 + np.exp(-x))"
   ]
  },
  {
   "cell_type": "code",
   "execution_count": 147,
   "metadata": {},
   "outputs": [],
   "source": [
    "def get_prob_test(tour_data: TourData,\n",
    "                 enc_player,\n",
    "                 train_set_players,\n",
    "                 players_power,\n",
    "                 sigma_quest,\n",
    "                 mu_quest):\n",
    "    prob_list = []\n",
    "    pos_list = []\n",
    "    for result in tour_data.results:\n",
    "        players = [p for p in result.players if p in train_set_players]\n",
    "        players = np.array(players).reshape(-1, 1)\n",
    "        if len(players)==0:\n",
    "            continue\n",
    "        p_power = encoder_player.transform(players)@players_power\n",
    "        sigmoid_args = (p_power + mu_quest)/math.sqrt((1+sigma_quest*math.pi/8))\n",
    "        prob = sigmoid(sigmoid_args)\n",
    "        prob = 1-prob\n",
    "        prob = 1-np.product(prob)\n",
    "        prob_list.append(prob)\n",
    "        pos_list.append(result.position)\n",
    "    return np.array(prob_list), np.array(pos_list)"
   ]
  },
  {
   "cell_type": "code",
   "execution_count": 148,
   "metadata": {},
   "outputs": [],
   "source": [
    "sigma_quest = quest_power.var()\n",
    "mu_quest = quest_power.mean()"
   ]
  },
  {
   "cell_type": "code",
   "execution_count": 74,
   "metadata": {},
   "outputs": [
    {
     "name": "stdout",
     "output_type": "stream",
     "text": [
      "Automatic pdb calling has been turned OFF\n"
     ]
    }
   ],
   "source": [
    "%pdb"
   ]
  },
  {
   "cell_type": "markdown",
   "metadata": {},
   "source": [
    "Для каждой игры вычислим коэффициенты ранговых корреляций и усредним по всем играм."
   ]
  },
  {
   "cell_type": "code",
   "execution_count": 151,
   "metadata": {},
   "outputs": [],
   "source": [
    "kendal_list = []\n",
    "spearman_list = []\n",
    "for t in test_data:\n",
    "    if len(t.results) > 0:\n",
    "        prob, pos = get_prob_test(t,\n",
    "                                  encoder_player,\n",
    "                                  train_set_players,\n",
    "                                  players_power,\n",
    "                                  sigma_quest,\n",
    "                                  mu_quest\n",
    "                                  )\n",
    "        kendal_list.append(kendalltau(prob,pos[::-1]).correlation)\n",
    "        spearman_list.append(spearmanr(prob,pos[::-1]).correlation)"
   ]
  },
  {
   "cell_type": "code",
   "execution_count": 152,
   "metadata": {},
   "outputs": [],
   "source": [
    "kendal_list = list(filter(lambda x: not np.isnan(x), kendal_list))\n",
    "spearman_list = list(filter(lambda x: not np.isnan(x), spearman_list))"
   ]
  },
  {
   "cell_type": "code",
   "execution_count": 153,
   "metadata": {},
   "outputs": [
    {
     "data": {
      "text/plain": [
       "0.58979246482652"
      ]
     },
     "execution_count": 153,
     "metadata": {},
     "output_type": "execute_result"
    }
   ],
   "source": [
    "np.mean(kendal_list)"
   ]
  },
  {
   "cell_type": "code",
   "execution_count": 154,
   "metadata": {},
   "outputs": [
    {
     "data": {
      "text/plain": [
       "0.7487482302565207"
      ]
     },
     "execution_count": 154,
     "metadata": {},
     "output_type": "execute_result"
    }
   ],
   "source": [
    "np.mean(spearman_list)"
   ]
  }
 ],
 "metadata": {
  "kernelspec": {
   "display_name": "Python 3",
   "language": "python",
   "name": "python3"
  },
  "language_info": {
   "codemirror_mode": {
    "name": "ipython",
    "version": 3
   },
   "file_extension": ".py",
   "mimetype": "text/x-python",
   "name": "python",
   "nbconvert_exporter": "python",
   "pygments_lexer": "ipython3",
   "version": "3.7.4"
  },
  "toc": {
   "base_numbering": 1,
   "nav_menu": {},
   "number_sections": true,
   "sideBar": true,
   "skip_h1_title": false,
   "title_cell": "Table of Contents",
   "title_sidebar": "Contents",
   "toc_cell": false,
   "toc_position": {},
   "toc_section_display": true,
   "toc_window_display": false
  },
  "varInspector": {
   "cols": {
    "lenName": 16,
    "lenType": 16,
    "lenVar": 40
   },
   "kernels_config": {
    "python": {
     "delete_cmd_postfix": "",
     "delete_cmd_prefix": "del ",
     "library": "var_list.py",
     "varRefreshCmd": "print(var_dic_list())"
    },
    "r": {
     "delete_cmd_postfix": ") ",
     "delete_cmd_prefix": "rm(",
     "library": "var_list.r",
     "varRefreshCmd": "cat(var_dic_list()) "
    }
   },
   "types_to_exclude": [
    "module",
    "function",
    "builtin_function_or_method",
    "instance",
    "_Feature"
   ],
   "window_display": false
  }
 },
 "nbformat": 4,
 "nbformat_minor": 4
}
